{
 "cells": [
  {
   "cell_type": "code",
   "execution_count": 29,
   "id": "82d4d3cf",
   "metadata": {},
   "outputs": [],
   "source": [
    "import pandas as pd\n",
    "import numpy as np\n",
    "import re"
   ]
  },
  {
   "cell_type": "code",
   "execution_count": 30,
   "id": "867b0504",
   "metadata": {},
   "outputs": [],
   "source": [
    "data = pd.read_csv('data/filtered_results.tsv', sep='\\t', low_memory=False)"
   ]
  },
  {
   "cell_type": "markdown",
   "id": "573499f1",
   "metadata": {},
   "source": [
    "Peptidoforms intensities, with 40,921 resolved peptidoforms detected in at least one sample (used for identifiability models)"
   ]
  },
  {
   "cell_type": "code",
   "execution_count": 31,
   "id": "7809cff5",
   "metadata": {},
   "outputs": [
    {
     "data": {
      "text/plain": [
       "(40921, 707)"
      ]
     },
     "execution_count": 31,
     "metadata": {},
     "output_type": "execute_result"
    }
   ],
   "source": [
    "data.shape"
   ]
  },
  {
   "cell_type": "code",
   "execution_count": 32,
   "id": "5649297f",
   "metadata": {},
   "outputs": [
    {
     "data": {
      "text/plain": [
       "Index(['rowid', 'ccms_row_id', 'Peptidoform', 'Peptidoform ID',\n",
       "       'Unmod peptidoform', 'Total', 'Total- Unmodified sequence',\n",
       "       'Peptidoforms- Unmodified sequence', 'Proteins', 'Mass',\n",
       "       ...\n",
       "       '_dyn_#Patient_M2_healthyMale.Timepoint_2_unmod',\n",
       "       '_dyn_#Patient_M2_healthyMale.Timepoint_3',\n",
       "       '_dyn_#Patient_M2_healthyMale.Timepoint_3_unmod',\n",
       "       '_dyn_#Patient_M3_healthyMale.Timepoint_1',\n",
       "       '_dyn_#Patient_M3_healthyMale.Timepoint_1_unmod',\n",
       "       '_dyn_#Patient_M3_healthyMale.Timepoint_2',\n",
       "       '_dyn_#Patient_M3_healthyMale.Timepoint_2_unmod',\n",
       "       '_dyn_#Patient_M3_healthyMale.Timepoint_3',\n",
       "       '_dyn_#Patient_M3_healthyMale.Timepoint_3_unmod', 'id'],\n",
       "      dtype='object', length=707)"
      ]
     },
     "execution_count": 32,
     "metadata": {},
     "output_type": "execute_result"
    }
   ],
   "source": [
    "data.columns"
   ]
  },
  {
   "cell_type": "code",
   "execution_count": 21,
   "id": "2efc6703",
   "metadata": {},
   "outputs": [
    {
     "data": {
      "text/html": [
       "<div>\n",
       "<style scoped>\n",
       "    .dataframe tbody tr th:only-of-type {\n",
       "        vertical-align: middle;\n",
       "    }\n",
       "\n",
       "    .dataframe tbody tr th {\n",
       "        vertical-align: top;\n",
       "    }\n",
       "\n",
       "    .dataframe thead th {\n",
       "        text-align: right;\n",
       "    }\n",
       "</style>\n",
       "<table border=\"1\" class=\"dataframe\">\n",
       "  <thead>\n",
       "    <tr style=\"text-align: right;\">\n",
       "      <th></th>\n",
       "      <th>rowid</th>\n",
       "      <th>ccms_row_id</th>\n",
       "      <th>Peptidoform</th>\n",
       "      <th>Peptidoform ID</th>\n",
       "      <th>Unmod peptidoform</th>\n",
       "      <th>Total</th>\n",
       "      <th>Total- Unmodified sequence</th>\n",
       "      <th>Peptidoforms- Unmodified sequence</th>\n",
       "      <th>Proteins</th>\n",
       "      <th>Mass</th>\n",
       "      <th>...</th>\n",
       "      <th>_dyn_#Patient_M2_healthyMale.Timepoint_2_unmod</th>\n",
       "      <th>_dyn_#Patient_M2_healthyMale.Timepoint_3</th>\n",
       "      <th>_dyn_#Patient_M2_healthyMale.Timepoint_3_unmod</th>\n",
       "      <th>_dyn_#Patient_M3_healthyMale.Timepoint_1</th>\n",
       "      <th>_dyn_#Patient_M3_healthyMale.Timepoint_1_unmod</th>\n",
       "      <th>_dyn_#Patient_M3_healthyMale.Timepoint_2</th>\n",
       "      <th>_dyn_#Patient_M3_healthyMale.Timepoint_2_unmod</th>\n",
       "      <th>_dyn_#Patient_M3_healthyMale.Timepoint_3</th>\n",
       "      <th>_dyn_#Patient_M3_healthyMale.Timepoint_3_unmod</th>\n",
       "      <th>id</th>\n",
       "    </tr>\n",
       "  </thead>\n",
       "  <tbody>\n",
       "    <tr>\n",
       "      <th>0</th>\n",
       "      <td>1</td>\n",
       "      <td>1</td>\n",
       "      <td>.SPLFM+15.995GK.</td>\n",
       "      <td>SPLFM+15.995GK</td>\n",
       "      <td>.SPLFMGK.</td>\n",
       "      <td>11679</td>\n",
       "      <td>11681</td>\n",
       "      <td>2</td>\n",
       "      <td>sp|P01009|A1AT_HUMAN;tr|A0A024R6I7|A0A024R6I7_...</td>\n",
       "      <td>795.4060</td>\n",
       "      <td>...</td>\n",
       "      <td>84,453,000</td>\n",
       "      <td>NaN</td>\n",
       "      <td>92,032,000</td>\n",
       "      <td>NaN</td>\n",
       "      <td>NaN</td>\n",
       "      <td>NaN</td>\n",
       "      <td>51,720,000</td>\n",
       "      <td>NaN</td>\n",
       "      <td>49,329,000</td>\n",
       "      <td>0</td>\n",
       "    </tr>\n",
       "    <tr>\n",
       "      <th>1</th>\n",
       "      <td>2</td>\n",
       "      <td>2</td>\n",
       "      <td>.EPQVYTLPPSREEM+15.995TK.</td>\n",
       "      <td>EPQVYTLPPSREEM+15.995TK</td>\n",
       "      <td>.EPQVYTLPPSREEMTK.</td>\n",
       "      <td>11411</td>\n",
       "      <td>13133</td>\n",
       "      <td>46</td>\n",
       "      <td>sp|P01859|IGHG2_HUMAN;sp|P01860|IGHG3_HUMAN;tr...</td>\n",
       "      <td>1920.9381</td>\n",
       "      <td>...</td>\n",
       "      <td>NaN</td>\n",
       "      <td>NaN</td>\n",
       "      <td>NaN</td>\n",
       "      <td>NaN</td>\n",
       "      <td>NaN</td>\n",
       "      <td>NaN</td>\n",
       "      <td>NaN</td>\n",
       "      <td>NaN</td>\n",
       "      <td>NaN</td>\n",
       "      <td>1</td>\n",
       "    </tr>\n",
       "    <tr>\n",
       "      <th>2</th>\n",
       "      <td>3</td>\n",
       "      <td>3</td>\n",
       "      <td>.AVM+15.995DDFAAFVEK.</td>\n",
       "      <td>AVM+15.995DDFAAFVEK</td>\n",
       "      <td>.AVMDDFAAFVEK.</td>\n",
       "      <td>10949</td>\n",
       "      <td>18495</td>\n",
       "      <td>81</td>\n",
       "      <td>sp|P02768-2|ALBU_HUMAN;sp|P02768-3|ALBU_HUMAN;...</td>\n",
       "      <td>1358.6318</td>\n",
       "      <td>...</td>\n",
       "      <td>1,911,700,000</td>\n",
       "      <td>NaN</td>\n",
       "      <td>1,625,600,000</td>\n",
       "      <td>NaN</td>\n",
       "      <td>43,830,000</td>\n",
       "      <td>NaN</td>\n",
       "      <td>1,484,500,000</td>\n",
       "      <td>NaN</td>\n",
       "      <td>1,147,100,000</td>\n",
       "      <td>2</td>\n",
       "    </tr>\n",
       "    <tr>\n",
       "      <th>3</th>\n",
       "      <td>4</td>\n",
       "      <td>4</td>\n",
       "      <td>.EFNAETFTFHADIC-33.988TLSEK.</td>\n",
       "      <td>EFNAETFTFHADIC-33.988TLSEK</td>\n",
       "      <td>.EFNAETFTFHADICTLSEK.</td>\n",
       "      <td>10198</td>\n",
       "      <td>22966</td>\n",
       "      <td>174</td>\n",
       "      <td>sp|P02768-2|ALBU_HUMAN;sp|P02768-3|ALBU_HUMAN;...</td>\n",
       "      <td>2169.0257</td>\n",
       "      <td>...</td>\n",
       "      <td>NaN</td>\n",
       "      <td>NaN</td>\n",
       "      <td>NaN</td>\n",
       "      <td>NaN</td>\n",
       "      <td>NaN</td>\n",
       "      <td>NaN</td>\n",
       "      <td>NaN</td>\n",
       "      <td>NaN</td>\n",
       "      <td>NaN</td>\n",
       "      <td>3</td>\n",
       "    </tr>\n",
       "    <tr>\n",
       "      <th>4</th>\n",
       "      <td>5</td>\n",
       "      <td>5</td>\n",
       "      <td>.M+15.995ADEAGSEADHEGTHSTK.</td>\n",
       "      <td>M+15.995ADEAGSEADHEGTHSTK</td>\n",
       "      <td>.MADEAGSEADHEGTHSTK.</td>\n",
       "      <td>9608</td>\n",
       "      <td>18724</td>\n",
       "      <td>131</td>\n",
       "      <td>sp|P02671-2|FIBA_HUMAN;sp|P02671|FIBA_HUMAN</td>\n",
       "      <td>1888.7728</td>\n",
       "      <td>...</td>\n",
       "      <td>22,109,000</td>\n",
       "      <td>NaN</td>\n",
       "      <td>1,078,800,000</td>\n",
       "      <td>NaN</td>\n",
       "      <td>6,243,600</td>\n",
       "      <td>NaN</td>\n",
       "      <td>1,199,000,000</td>\n",
       "      <td>NaN</td>\n",
       "      <td>644,940,000</td>\n",
       "      <td>4</td>\n",
       "    </tr>\n",
       "  </tbody>\n",
       "</table>\n",
       "<p>5 rows × 707 columns</p>\n",
       "</div>"
      ],
      "text/plain": [
       "   rowid  ccms_row_id                   Peptidoform  \\\n",
       "0      1            1              .SPLFM+15.995GK.   \n",
       "1      2            2     .EPQVYTLPPSREEM+15.995TK.   \n",
       "2      3            3         .AVM+15.995DDFAAFVEK.   \n",
       "3      4            4  .EFNAETFTFHADIC-33.988TLSEK.   \n",
       "4      5            5   .M+15.995ADEAGSEADHEGTHSTK.   \n",
       "\n",
       "               Peptidoform ID      Unmod peptidoform  Total  \\\n",
       "0              SPLFM+15.995GK              .SPLFMGK.  11679   \n",
       "1     EPQVYTLPPSREEM+15.995TK     .EPQVYTLPPSREEMTK.  11411   \n",
       "2         AVM+15.995DDFAAFVEK         .AVMDDFAAFVEK.  10949   \n",
       "3  EFNAETFTFHADIC-33.988TLSEK  .EFNAETFTFHADICTLSEK.  10198   \n",
       "4   M+15.995ADEAGSEADHEGTHSTK   .MADEAGSEADHEGTHSTK.   9608   \n",
       "\n",
       "   Total- Unmodified sequence  Peptidoforms- Unmodified sequence  \\\n",
       "0                       11681                                  2   \n",
       "1                       13133                                 46   \n",
       "2                       18495                                 81   \n",
       "3                       22966                                174   \n",
       "4                       18724                                131   \n",
       "\n",
       "                                            Proteins       Mass  ...  \\\n",
       "0  sp|P01009|A1AT_HUMAN;tr|A0A024R6I7|A0A024R6I7_...   795.4060  ...   \n",
       "1  sp|P01859|IGHG2_HUMAN;sp|P01860|IGHG3_HUMAN;tr...  1920.9381  ...   \n",
       "2  sp|P02768-2|ALBU_HUMAN;sp|P02768-3|ALBU_HUMAN;...  1358.6318  ...   \n",
       "3  sp|P02768-2|ALBU_HUMAN;sp|P02768-3|ALBU_HUMAN;...  2169.0257  ...   \n",
       "4        sp|P02671-2|FIBA_HUMAN;sp|P02671|FIBA_HUMAN  1888.7728  ...   \n",
       "\n",
       "   _dyn_#Patient_M2_healthyMale.Timepoint_2_unmod  \\\n",
       "0                                      84,453,000   \n",
       "1                                             NaN   \n",
       "2                                   1,911,700,000   \n",
       "3                                             NaN   \n",
       "4                                      22,109,000   \n",
       "\n",
       "   _dyn_#Patient_M2_healthyMale.Timepoint_3  \\\n",
       "0                                       NaN   \n",
       "1                                       NaN   \n",
       "2                                       NaN   \n",
       "3                                       NaN   \n",
       "4                                       NaN   \n",
       "\n",
       "  _dyn_#Patient_M2_healthyMale.Timepoint_3_unmod  \\\n",
       "0                                     92,032,000   \n",
       "1                                            NaN   \n",
       "2                                  1,625,600,000   \n",
       "3                                            NaN   \n",
       "4                                  1,078,800,000   \n",
       "\n",
       "   _dyn_#Patient_M3_healthyMale.Timepoint_1  \\\n",
       "0                                       NaN   \n",
       "1                                       NaN   \n",
       "2                                       NaN   \n",
       "3                                       NaN   \n",
       "4                                       NaN   \n",
       "\n",
       "  _dyn_#Patient_M3_healthyMale.Timepoint_1_unmod  \\\n",
       "0                                            NaN   \n",
       "1                                            NaN   \n",
       "2                                     43,830,000   \n",
       "3                                            NaN   \n",
       "4                                      6,243,600   \n",
       "\n",
       "   _dyn_#Patient_M3_healthyMale.Timepoint_2  \\\n",
       "0                                       NaN   \n",
       "1                                       NaN   \n",
       "2                                       NaN   \n",
       "3                                       NaN   \n",
       "4                                       NaN   \n",
       "\n",
       "  _dyn_#Patient_M3_healthyMale.Timepoint_2_unmod  \\\n",
       "0                                     51,720,000   \n",
       "1                                            NaN   \n",
       "2                                  1,484,500,000   \n",
       "3                                            NaN   \n",
       "4                                  1,199,000,000   \n",
       "\n",
       "  _dyn_#Patient_M3_healthyMale.Timepoint_3  \\\n",
       "0                                      NaN   \n",
       "1                                      NaN   \n",
       "2                                      NaN   \n",
       "3                                      NaN   \n",
       "4                                      NaN   \n",
       "\n",
       "  _dyn_#Patient_M3_healthyMale.Timepoint_3_unmod id  \n",
       "0                                     49,329,000  0  \n",
       "1                                            NaN  1  \n",
       "2                                  1,147,100,000  2  \n",
       "3                                            NaN  3  \n",
       "4                                    644,940,000  4  \n",
       "\n",
       "[5 rows x 707 columns]"
      ]
     },
     "execution_count": 21,
     "metadata": {},
     "output_type": "execute_result"
    }
   ],
   "source": [
    "data.head()"
   ]
  },
  {
   "cell_type": "markdown",
   "id": "a6c4e356",
   "metadata": {},
   "source": [
    "### Investigation"
   ]
  },
  {
   "cell_type": "code",
   "execution_count": 50,
   "id": "4615afd9",
   "metadata": {},
   "outputs": [],
   "source": [
    "pattern = r'_dyn_#Patient_([^\\.]+)\\.Timepoint_(\\d+)'\n",
    "patient_timepoints = []\n",
    "for col in data.columns:\n",
    "\tmatch = re.search(pattern, col)\n",
    "\tif match:\n",
    "\t\tpatient_timepoints.append((match.group(1), match.group(2)))"
   ]
  },
  {
   "cell_type": "code",
   "execution_count": 51,
   "id": "d0922d2e",
   "metadata": {},
   "outputs": [],
   "source": [
    "pt_timepoints = pd.DataFrame(patient_timepoints, columns=['patient_id', 'timepoint'])"
   ]
  },
  {
   "cell_type": "markdown",
   "id": "7e7b4228",
   "metadata": {},
   "source": [
    "We have 52 patients + 6 healthy = 58"
   ]
  },
  {
   "cell_type": "code",
   "execution_count": 54,
   "id": "ce971049",
   "metadata": {},
   "outputs": [
    {
     "data": {
      "text/plain": [
       "58"
      ]
     },
     "execution_count": 54,
     "metadata": {},
     "output_type": "execute_result"
    }
   ],
   "source": [
    "num_patients = pt_timepoints['patient_id'].nunique()\n",
    "num_patients"
   ]
  },
  {
   "cell_type": "markdown",
   "id": "4689a692",
   "metadata": {},
   "source": [
    "- Patient 44 &rarr; Only has samples for 6 timepoints\n",
    "- Patients 24, 31, 33, 35, 49, 50, 51, 53, 54 &rarr; Only have samples for 2 timepoints\n",
    "- Healthy individuals &rarr; Have samples for 3 timepoints\n",
    "- Others &rarr; Have samples for 7 timepoints\n",
    "\n",
    "*Note*: We have patient IDs from range (1, 58)but only 52 actual patients (6 missing)"
   ]
  },
  {
   "cell_type": "code",
   "execution_count": 56,
   "id": "62138069",
   "metadata": {},
   "outputs": [
    {
     "data": {
      "text/plain": [
       "patient_id\n",
       "01                  14\n",
       "26                  14\n",
       "28                  14\n",
       "29                  14\n",
       "30                  14\n",
       "02                  14\n",
       "36                  14\n",
       "37                  14\n",
       "38                  14\n",
       "39                  14\n",
       "40                  14\n",
       "41                  14\n",
       "42                  14\n",
       "43                  14\n",
       "45                  14\n",
       "46                  14\n",
       "47                  14\n",
       "48                  14\n",
       "52                  14\n",
       "57                  14\n",
       "58                  14\n",
       "27                  14\n",
       "34                  14\n",
       "25                  14\n",
       "15                  14\n",
       "03                  14\n",
       "05                  14\n",
       "06                  14\n",
       "07                  14\n",
       "08                  14\n",
       "09                  14\n",
       "11                  14\n",
       "12                  14\n",
       "14                  14\n",
       "10                  14\n",
       "16                  14\n",
       "22                  14\n",
       "19                  14\n",
       "20                  14\n",
       "21                  14\n",
       "17                  14\n",
       "23                  14\n",
       "44                  12\n",
       "M2_healthyMale       6\n",
       "M1_healthyMale       6\n",
       "F3_healthyFemale     6\n",
       "F2_healthyFemale     6\n",
       "F1_healthyFemale     6\n",
       "M3_healthyMale       6\n",
       "54                   4\n",
       "53                   4\n",
       "31                   4\n",
       "50                   4\n",
       "49                   4\n",
       "33                   4\n",
       "35                   4\n",
       "24                   4\n",
       "51                   4\n",
       "Name: count, dtype: int64"
      ]
     },
     "execution_count": 56,
     "metadata": {},
     "output_type": "execute_result"
    }
   ],
   "source": [
    "pt_timepoints['patient_id'].value_counts()"
   ]
  },
  {
   "cell_type": "code",
   "execution_count": 59,
   "id": "2662c566",
   "metadata": {},
   "outputs": [
    {
     "data": {
      "text/plain": [
       "6677"
      ]
     },
     "execution_count": 59,
     "metadata": {},
     "output_type": "execute_result"
    }
   ],
   "source": [
    "data['Unmod peptidoform'].nunique()"
   ]
  },
  {
   "cell_type": "code",
   "execution_count": 60,
   "id": "8bee6d63",
   "metadata": {},
   "outputs": [
    {
     "data": {
      "text/plain": [
       "40921"
      ]
     },
     "execution_count": 60,
     "metadata": {},
     "output_type": "execute_result"
    }
   ],
   "source": [
    "data['Peptidoform'].nunique()"
   ]
  },
  {
   "cell_type": "code",
   "execution_count": 61,
   "id": "0bb633ba",
   "metadata": {},
   "outputs": [
    {
     "data": {
      "text/plain": [
       "40921"
      ]
     },
     "execution_count": 61,
     "metadata": {},
     "output_type": "execute_result"
    }
   ],
   "source": [
    "data['Peptidoform ID'].nunique()"
   ]
  },
  {
   "cell_type": "code",
   "execution_count": null,
   "id": "3099a38d",
   "metadata": {},
   "outputs": [],
   "source": []
  }
 ],
 "metadata": {
  "kernelspec": {
   "display_name": ".venv",
   "language": "python",
   "name": "python3"
  },
  "language_info": {
   "codemirror_mode": {
    "name": "ipython",
    "version": 3
   },
   "file_extension": ".py",
   "mimetype": "text/x-python",
   "name": "python",
   "nbconvert_exporter": "python",
   "pygments_lexer": "ipython3",
   "version": "3.9.6"
  }
 },
 "nbformat": 4,
 "nbformat_minor": 5
}
