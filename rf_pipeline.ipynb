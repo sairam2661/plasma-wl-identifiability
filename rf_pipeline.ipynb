{
 "cells": [
  {
   "cell_type": "code",
   "execution_count": 3,
   "id": "5cbad70c",
   "metadata": {},
   "outputs": [],
   "source": [
    "import pandas as pd\n",
    "import numpy as np\n",
    "from numpy.lib.format import open_memmap\n",
    "from sklearn.ensemble import RandomForestClassifier\n",
    "from sklearn.metrics import accuracy_score, f1_score"
   ]
  },
  {
   "cell_type": "markdown",
   "id": "ae02228c",
   "metadata": {},
   "source": [
    "### Imports"
   ]
  },
  {
   "cell_type": "markdown",
   "id": "9f2c1196",
   "metadata": {},
   "source": [
    "### Generate Data"
   ]
  },
  {
   "cell_type": "code",
   "execution_count": 2,
   "id": "4f2cd56b",
   "metadata": {},
   "outputs": [
    {
     "name": "stdout",
     "output_type": "stream",
     "text": [
      "train data built: (26106, 40921)\n",
      "val data built: (11935, 40921)\n",
      "test data built: (8629, 40921)\n"
     ]
    }
   ],
   "source": [
    "def initialize_sample_memmap_npy():\n",
    "    ref = pd.read_csv('data/patient_timepoints.csv', dtype={'patient_id': str, 'timepoint': int})\n",
    "\n",
    "    feature_cols = ref.columns[2:]\n",
    "    # Scale data with Pareto scaling\n",
    "    feat_df = ref[feature_cols].astype(float)\n",
    "    feat_df = feat_df.div(np.sqrt(feat_df.std()), axis=1)\n",
    "    feat_df = feat_df.div(feat_df.sum(axis=1), axis=0)\n",
    "\n",
    "    # Replace NA's with 0\n",
    "    feat_df = feat_df.fillna(0.0)\n",
    "\n",
    "    # Build lookup on scaled vectors\n",
    "    sample_dict = {\n",
    "        (row['patient_id'].lstrip('0'), row['timepoint']): \n",
    "           feat_df.iloc[i].to_numpy(dtype=np.float32)\n",
    "        for i, row in ref.iterrows()\n",
    "    }\n",
    "\n",
    "    for split in ('train','val','test'):\n",
    "        pairs = pd.read_csv(f'data/{split}_pair_keys.csv',\n",
    "                            dtype={'patient_id_a':str,'timepoint_a':int,\n",
    "                                   'patient_id_b':str,'timepoint_b':int})\n",
    "        n = len(pairs)\n",
    "        feature_dim = len(feature_cols)\n",
    "\n",
    "        X_mm = open_memmap(f'data/{split}_scaled_X.npy', mode='w+', dtype='float32',\n",
    "                           shape=(n, feature_dim))\n",
    "        y_mm = open_memmap(f'data/{split}_scaled_y.npy', mode='w+', dtype='int8',\n",
    "                           shape=(n,))\n",
    "\n",
    "        for i, row in enumerate(pairs.itertuples(index=False)):\n",
    "            a, ta = row.patient_id_a.lstrip('0'), row.timepoint_a\n",
    "            b, tb = row.patient_id_b.lstrip('0'), row.timepoint_b\n",
    "            vec_a = sample_dict[(a, ta)]\n",
    "            vec_b = sample_dict[(b, tb)]\n",
    "            X_mm[i] = np.abs(vec_a - vec_b)\n",
    "            y_mm[i] = 1 if a == b else 0\n",
    "\n",
    "        X_mm.flush(); y_mm.flush()\n",
    "        print(f\"{split} data built: {X_mm.shape}\")\n",
    "\n",
    "initialize_sample_memmap_npy()"
   ]
  },
  {
   "cell_type": "markdown",
   "id": "ec126d5b",
   "metadata": {},
   "source": [
    "### Load Data"
   ]
  },
  {
   "cell_type": "code",
   "execution_count": 3,
   "id": "14ae85b6",
   "metadata": {},
   "outputs": [],
   "source": [
    "# Load key files to get sizes and feature dimension\n",
    "ref = pd.read_csv('data/patient_timepoints.csv', dtype={'patient_id':str,'timepoint':int})\n",
    "feature_dim = ref.shape[1] - 2\n",
    "\n",
    "train_pairs = pd.read_csv('data/train_pair_keys.csv', dtype={'patient_id_a':str,'timepoint_a':int,'patient_id_b':str,'timepoint_b':int})\n",
    "val_pairs   = pd.read_csv('data/val_pair_keys.csv',   dtype=train_pairs.dtypes.to_dict())\n",
    "test_pairs  = pd.read_csv('data/test_pair_keys.csv',  dtype=train_pairs.dtypes.to_dict())\n",
    "\n",
    "n_train = len(train_pairs)\n",
    "n_val   = len(val_pairs)\n",
    "n_test  = len(test_pairs)\n",
    "\n",
    "# Memory-map the data\n",
    "train_X = np.load('data/train_scaled_X.npy', mmap_mode='r')\n",
    "train_y = np.load('data/train_scaled_y.npy', mmap_mode='r')\n",
    "val_X   = np.load('data/val_scaled_X.npy',   mmap_mode='r')\n",
    "val_y   = np.load('data/val_scaled_y.npy',   mmap_mode='r')\n",
    "test_X  = np.load('data/test_scaled_X.npy',  mmap_mode='r')\n",
    "test_y  = np.load('data/test_scaled_y.npy',  mmap_mode='r')"
   ]
  },
  {
   "cell_type": "code",
   "execution_count": 13,
   "id": "e245cc75",
   "metadata": {},
   "outputs": [
    {
     "name": "stdout",
     "output_type": "stream",
     "text": [
      "Train set: 26106 samples, 624 positives, 25482 negatives\n",
      "Validation set: 11935 samples, 189 positives, 11746 negatives\n",
      "Test set: 8629 samples, 111 positives, 8518 negatives\n"
     ]
    }
   ],
   "source": [
    "# count the number of positive and negative samples\n",
    "pos_count = np.sum(train_y)\n",
    "neg_count = n_train - pos_count\n",
    "print(f\"Train set: {n_train} samples, {pos_count} positives, {neg_count} negatives\")\n",
    "\n",
    "# validation set\n",
    "val_pos_count = np.sum(val_y)\n",
    "val_neg_count = n_val - val_pos_count\n",
    "print(f\"Validation set: {n_val} samples, {val_pos_count} positives, {val_neg_count} negatives\")\n",
    "\n",
    "# test set\n",
    "test_pos_count = np.sum(test_y)\n",
    "test_neg_count = n_test - test_pos_count\n",
    "print(f\"Test set: {n_test} samples, {test_pos_count} positives, {test_neg_count} negatives\")"
   ]
  },
  {
   "cell_type": "markdown",
   "id": "cb8a2d30",
   "metadata": {},
   "source": [
    "### Train Model"
   ]
  },
  {
   "cell_type": "code",
   "execution_count": 62,
   "id": "33ea5807",
   "metadata": {},
   "outputs": [
    {
     "name": "stdout",
     "output_type": "stream",
     "text": [
      "Negative weight: 0.0500, Positive weight: 2.0000\n",
      "Train → Acc: 0.9966, F1: 0.9967, recall: 1.0000, precision: 0.8739, fpr: 0.0035\n",
      "Val   → Acc: 0.9994, F1: 0.9994, recall: 0.9630, precision: 1.0000, fpr: 0.0000\n",
      "Test  → Acc: 0.9947, F1: 0.9951, recall: 0.9910, precision: 0.7097, fpr: 0.0053\n"
     ]
    }
   ],
   "source": [
    "# Logistic Regression model\n",
    "clf = RandomForestClassifier(\n",
    "    n_estimators=100,\n",
    "    max_depth=10,\n",
    "    min_samples_split=10\n",
    ")\n",
    "classes    = np.unique(train_y)\n",
    "\n",
    "# Mini‐batch training\n",
    "# cross validation implemented with sklearn cross_val_score\n",
    "from sklearn.model_selection import StratifiedKFold\n",
    "negative_weight = 0.05\n",
    "positive_weight = 2.0\n",
    "print(f\"Negative weight: {negative_weight:.4f}, Positive weight: {positive_weight:.4f}\")\n",
    "sample_weight = np.where(train_y == 1, positive_weight, negative_weight)\n",
    "clf.fit(train_X, train_y, sample_weight=sample_weight)\n",
    "\n",
    "\n",
    "for name, X, y in [('Train', train_X, train_y),\n",
    "                  ('Val',   val_X,   val_y),\n",
    "                  ('Test',  test_X,  test_y)]:\n",
    "    pred = clf.predict(X)\n",
    "    acc   = accuracy_score(y, pred)\n",
    "    recall = np.sum((y == 1) & (pred == 1)) / np.sum(y == 1)\n",
    "    precision = np.sum((y == 1) & (pred == 1)) / np.sum(pred == 1)\n",
    "    fpr = np.sum((y == 0) & (pred == 1)) / np.sum(y == 0)\n",
    "    f1    = f1_score(y, pred, average='weighted')\n",
    "    print(f\"{name:5} → Acc: {acc:.4f}, F1: {f1:.4f}, recall: {recall:.4f}, precision: {precision:.4f}, fpr: {fpr:.4f}\")"
   ]
  },
  {
   "cell_type": "code",
   "execution_count": 66,
   "id": "ae8c9e96",
   "metadata": {},
   "outputs": [
    {
     "data": {
      "image/png": "[encoded data removed]",
      "text/plain": [
       "<Figure size 640x480 with 2 Axes>"
      ]
     },
     "metadata": {},
     "output_type": "display_data"
    }
   ],
   "source": [
    "# confusion matrix\n",
    "from sklearn.metrics import confusion_matrix\n",
    "import seaborn as sns\n",
    "import matplotlib.pyplot as plt\n",
    "import matplotlib.ticker as ticker\n",
    "import matplotlib.patches as mpatches       \n",
    "\n",
    "\n",
    "def plot_confusion_matrix(y_true, y_pred, classes, normalize=False):\n",
    "    cm = confusion_matrix(y_true, y_pred)\n",
    "    if normalize:\n",
    "        cm = cm.astype('float') / cm.sum(axis=1)[:, np.newaxis]\n",
    "    else:\n",
    "        cm = cm.astype('int')\n",
    "\n",
    "    fig, ax = plt.subplots()\n",
    "    im = ax.imshow(cm, interpolation='nearest', cmap=plt.cm.Blues)\n",
    "    ax.set_title('Confusion Matrix')\n",
    "    fig.colorbar(im)\n",
    "\n",
    "    tick_marks = np.arange(len(classes))\n",
    "    ax.set_xticks(tick_marks)\n",
    "    ax.set_yticks(tick_marks)\n",
    "    ax.set_xticklabels(classes)\n",
    "    ax.set_yticklabels(classes)\n",
    "\n",
    "    plt.ylabel('True label')\n",
    "    plt.xlabel('Predicted label')\n",
    "    \n",
    "    # Add text annotations\n",
    "    thresh = cm.max() / 2.\n",
    "    for i, j in np.ndindex(cm.shape):\n",
    "        ax.text(j, i, f'{cm[i, j]:.4f}', ha='center', va='center',\n",
    "                color='white' if cm[i, j] > thresh else 'black')\n",
    "\n",
    "    plt.tight_layout()\n",
    "    plt.show()\n",
    "plot_confusion_matrix(test_y, pred, classes=classes, normalize=True)"
   ]
  },
  {
   "cell_type": "code",
   "execution_count": 72,
   "id": "55eb6e7f",
   "metadata": {},
   "outputs": [
    {
     "data": {
      "image/png": "[encoded data removed]",
      "text/plain": [
       "<Figure size 640x480 with 1 Axes>"
      ]
     },
     "metadata": {},
     "output_type": "display_data"
    }
   ],
   "source": [
    "# plot AUC ROC curve\n",
    "from sklearn.metrics import roc_curve, auc\n",
    "\n",
    "y_pred_prob = clf.predict_proba(test_X)[:, 1]\n",
    "fpr, tpr, thresholds = roc_curve(test_y, y_pred_prob)\n",
    "roc_auc = auc(fpr, tpr)\n",
    "plt.figure()\n",
    "plt.plot(fpr, tpr, color='darkorange', lw=2, label='(AUC = %0.2f)' % roc_auc)\n",
    "plt.plot([0, 1], [0, 1], color='navy', lw=2, linestyle='--')\n",
    "plt.xlim([0.0, 1.0])\n",
    "plt.ylim([0.0, 1.05])\n",
    "plt.xlabel('False Positive Rate')\n",
    "plt.ylabel('True Positive Rate')\n",
    "plt.title('ROC Curve')\n",
    "plt.legend(loc=\"lower right\")\n",
    "plt.show()"
   ]
  },
  {
   "cell_type": "markdown",
   "id": "622839b1",
   "metadata": {},
   "source": [
    "### Inspect features"
   ]
  },
  {
   "cell_type": "code",
   "execution_count": 64,
   "id": "3275f8d2",
   "metadata": {},
   "outputs": [
    {
     "name": "stdout",
     "output_type": "stream",
     "text": [
      "Feature ranking:\n",
      "Features 116:  0.0138\n",
      "Features 2348:  0.0112\n",
      "Features 340:  0.0108\n",
      "Features 1232:  0.0094\n",
      "Features 4748:  0.0084\n",
      "Features 1704:  0.0084\n",
      "Features 3052:  0.0080\n",
      "Features 1251:  0.0080\n",
      "Features 23:  0.0074\n",
      "Features 3600:  0.0072\n",
      "Features 1633:  0.0072\n",
      "Features 1521:  0.0071\n",
      "Features 1049:  0.0070\n",
      "Features 27:  0.0070\n",
      "Features 1573:  0.0068\n",
      "Features 2640:  0.0067\n",
      "Features 2561:  0.0066\n",
      "Features 1694:  0.0063\n",
      "Features 810:  0.0062\n",
      "Features 1274:  0.0062\n"
     ]
    }
   ],
   "source": [
    "# View top peptidoform features\n",
    "importances = clf.feature_importances_\n",
    "indices = np.argsort(importances)[::-1]\n",
    "print(\"Feature ranking:\")\n",
    "for f in range(feature_dim)[:20]:\n",
    "    print(f\"Features {indices[f]:2d}:  {importances[indices[f]]:.4f}\")"
   ]
  },
  {
   "cell_type": "code",
   "execution_count": 4,
   "id": "1cc25e45",
   "metadata": {},
   "outputs": [],
   "source": [
    "# check the correlation of the features with the target\n",
    "# check the correlation of the features with the target from y_train, y_val, y_test\n",
    "\n",
    "train_X_df = pd.DataFrame(train_X[:, [116, 2348, 340, 1232, 4748, 1704, 3052, 1251, 23, 3600]])\n",
    "train_y_df = pd.DataFrame(train_y, columns=['target'])\n",
    "train_df = pd.concat([train_X_df, train_y_df], axis=1)\n",
    "corr = train_df.corr()"
   ]
  },
  {
   "cell_type": "code",
   "execution_count": 5,
   "id": "ca1026cd",
   "metadata": {},
   "outputs": [
    {
     "data": {
      "text/html": [
       "<div>\n",
       "<style scoped>\n",
       "    .dataframe tbody tr th:only-of-type {\n",
       "        vertical-align: middle;\n",
       "    }\n",
       "\n",
       "    .dataframe tbody tr th {\n",
       "        vertical-align: top;\n",
       "    }\n",
       "\n",
       "    .dataframe thead th {\n",
       "        text-align: right;\n",
       "    }\n",
       "</style>\n",
       "<table border=\"1\" class=\"dataframe\">\n",
       "  <thead>\n",
       "    <tr style=\"text-align: right;\">\n",
       "      <th></th>\n",
       "      <th>0</th>\n",
       "      <th>1</th>\n",
       "      <th>2</th>\n",
       "      <th>3</th>\n",
       "      <th>4</th>\n",
       "      <th>5</th>\n",
       "      <th>6</th>\n",
       "      <th>7</th>\n",
       "      <th>8</th>\n",
       "      <th>9</th>\n",
       "      <th>target</th>\n",
       "    </tr>\n",
       "  </thead>\n",
       "  <tbody>\n",
       "    <tr>\n",
       "      <th>0</th>\n",
       "      <td>1.000000</td>\n",
       "      <td>0.089943</td>\n",
       "      <td>0.026608</td>\n",
       "      <td>-0.005702</td>\n",
       "      <td>0.058556</td>\n",
       "      <td>0.108322</td>\n",
       "      <td>0.074413</td>\n",
       "      <td>0.037933</td>\n",
       "      <td>0.074280</td>\n",
       "      <td>0.070530</td>\n",
       "      <td>-0.164344</td>\n",
       "    </tr>\n",
       "    <tr>\n",
       "      <th>1</th>\n",
       "      <td>0.089943</td>\n",
       "      <td>1.000000</td>\n",
       "      <td>0.063948</td>\n",
       "      <td>0.088273</td>\n",
       "      <td>-0.030820</td>\n",
       "      <td>0.056165</td>\n",
       "      <td>0.283416</td>\n",
       "      <td>0.026412</td>\n",
       "      <td>-0.031105</td>\n",
       "      <td>0.047553</td>\n",
       "      <td>-0.102810</td>\n",
       "    </tr>\n",
       "    <tr>\n",
       "      <th>2</th>\n",
       "      <td>0.026608</td>\n",
       "      <td>0.063948</td>\n",
       "      <td>1.000000</td>\n",
       "      <td>0.119235</td>\n",
       "      <td>-0.015827</td>\n",
       "      <td>0.045524</td>\n",
       "      <td>0.073952</td>\n",
       "      <td>0.014802</td>\n",
       "      <td>-0.016688</td>\n",
       "      <td>-0.009047</td>\n",
       "      <td>-0.169123</td>\n",
       "    </tr>\n",
       "    <tr>\n",
       "      <th>3</th>\n",
       "      <td>-0.005702</td>\n",
       "      <td>0.088273</td>\n",
       "      <td>0.119235</td>\n",
       "      <td>1.000000</td>\n",
       "      <td>0.005345</td>\n",
       "      <td>0.000698</td>\n",
       "      <td>0.031721</td>\n",
       "      <td>0.018094</td>\n",
       "      <td>-0.051651</td>\n",
       "      <td>-0.026979</td>\n",
       "      <td>-0.158404</td>\n",
       "    </tr>\n",
       "    <tr>\n",
       "      <th>4</th>\n",
       "      <td>0.058556</td>\n",
       "      <td>-0.030820</td>\n",
       "      <td>-0.015827</td>\n",
       "      <td>0.005345</td>\n",
       "      <td>1.000000</td>\n",
       "      <td>0.032487</td>\n",
       "      <td>0.027845</td>\n",
       "      <td>0.003646</td>\n",
       "      <td>-0.050438</td>\n",
       "      <td>0.009859</td>\n",
       "      <td>-0.133582</td>\n",
       "    </tr>\n",
       "    <tr>\n",
       "      <th>5</th>\n",
       "      <td>0.108322</td>\n",
       "      <td>0.056165</td>\n",
       "      <td>0.045524</td>\n",
       "      <td>0.000698</td>\n",
       "      <td>0.032487</td>\n",
       "      <td>1.000000</td>\n",
       "      <td>0.111271</td>\n",
       "      <td>0.021020</td>\n",
       "      <td>0.101797</td>\n",
       "      <td>0.041547</td>\n",
       "      <td>-0.170121</td>\n",
       "    </tr>\n",
       "    <tr>\n",
       "      <th>6</th>\n",
       "      <td>0.074413</td>\n",
       "      <td>0.283416</td>\n",
       "      <td>0.073952</td>\n",
       "      <td>0.031721</td>\n",
       "      <td>0.027845</td>\n",
       "      <td>0.111271</td>\n",
       "      <td>1.000000</td>\n",
       "      <td>-0.024752</td>\n",
       "      <td>-0.063256</td>\n",
       "      <td>0.126046</td>\n",
       "      <td>-0.135308</td>\n",
       "    </tr>\n",
       "    <tr>\n",
       "      <th>7</th>\n",
       "      <td>0.037933</td>\n",
       "      <td>0.026412</td>\n",
       "      <td>0.014802</td>\n",
       "      <td>0.018094</td>\n",
       "      <td>0.003646</td>\n",
       "      <td>0.021020</td>\n",
       "      <td>-0.024752</td>\n",
       "      <td>1.000000</td>\n",
       "      <td>-0.015189</td>\n",
       "      <td>-0.024251</td>\n",
       "      <td>-0.142192</td>\n",
       "    </tr>\n",
       "    <tr>\n",
       "      <th>8</th>\n",
       "      <td>0.074280</td>\n",
       "      <td>-0.031105</td>\n",
       "      <td>-0.016688</td>\n",
       "      <td>-0.051651</td>\n",
       "      <td>-0.050438</td>\n",
       "      <td>0.101797</td>\n",
       "      <td>-0.063256</td>\n",
       "      <td>-0.015189</td>\n",
       "      <td>1.000000</td>\n",
       "      <td>-0.065726</td>\n",
       "      <td>-0.086588</td>\n",
       "    </tr>\n",
       "    <tr>\n",
       "      <th>9</th>\n",
       "      <td>0.070530</td>\n",
       "      <td>0.047553</td>\n",
       "      <td>-0.009047</td>\n",
       "      <td>-0.026979</td>\n",
       "      <td>0.009859</td>\n",
       "      <td>0.041547</td>\n",
       "      <td>0.126046</td>\n",
       "      <td>-0.024251</td>\n",
       "      <td>-0.065726</td>\n",
       "      <td>1.000000</td>\n",
       "      <td>-0.139867</td>\n",
       "    </tr>\n",
       "    <tr>\n",
       "      <th>target</th>\n",
       "      <td>-0.164344</td>\n",
       "      <td>-0.102810</td>\n",
       "      <td>-0.169123</td>\n",
       "      <td>-0.158404</td>\n",
       "      <td>-0.133582</td>\n",
       "      <td>-0.170121</td>\n",
       "      <td>-0.135308</td>\n",
       "      <td>-0.142192</td>\n",
       "      <td>-0.086588</td>\n",
       "      <td>-0.139867</td>\n",
       "      <td>1.000000</td>\n",
       "    </tr>\n",
       "  </tbody>\n",
       "</table>\n",
       "</div>"
      ],
      "text/plain": [
       "               0         1         2         3         4         5         6  \\\n",
       "0       1.000000  0.089943  0.026608 -0.005702  0.058556  0.108322  0.074413   \n",
       "1       0.089943  1.000000  0.063948  0.088273 -0.030820  0.056165  0.283416   \n",
       "2       0.026608  0.063948  1.000000  0.119235 -0.015827  0.045524  0.073952   \n",
       "3      -0.005702  0.088273  0.119235  1.000000  0.005345  0.000698  0.031721   \n",
       "4       0.058556 -0.030820 -0.015827  0.005345  1.000000  0.032487  0.027845   \n",
       "5       0.108322  0.056165  0.045524  0.000698  0.032487  1.000000  0.111271   \n",
       "6       0.074413  0.283416  0.073952  0.031721  0.027845  0.111271  1.000000   \n",
       "7       0.037933  0.026412  0.014802  0.018094  0.003646  0.021020 -0.024752   \n",
       "8       0.074280 -0.031105 -0.016688 -0.051651 -0.050438  0.101797 -0.063256   \n",
       "9       0.070530  0.047553 -0.009047 -0.026979  0.009859  0.041547  0.126046   \n",
       "target -0.164344 -0.102810 -0.169123 -0.158404 -0.133582 -0.170121 -0.135308   \n",
       "\n",
       "               7         8         9    target  \n",
       "0       0.037933  0.074280  0.070530 -0.164344  \n",
       "1       0.026412 -0.031105  0.047553 -0.102810  \n",
       "2       0.014802 -0.016688 -0.009047 -0.169123  \n",
       "3       0.018094 -0.051651 -0.026979 -0.158404  \n",
       "4       0.003646 -0.050438  0.009859 -0.133582  \n",
       "5       0.021020  0.101797  0.041547 -0.170121  \n",
       "6      -0.024752 -0.063256  0.126046 -0.135308  \n",
       "7       1.000000 -0.015189 -0.024251 -0.142192  \n",
       "8      -0.015189  1.000000 -0.065726 -0.086588  \n",
       "9      -0.024251 -0.065726  1.000000 -0.139867  \n",
       "target -0.142192 -0.086588 -0.139867  1.000000  "
      ]
     },
     "execution_count": 5,
     "metadata": {},
     "output_type": "execute_result"
    }
   ],
   "source": [
    "corr"
   ]
  },
  {
   "cell_type": "code",
   "execution_count": 73,
   "id": "25a9820a",
   "metadata": {},
   "outputs": [
    {
     "name": "stderr",
     "output_type": "stream",
     "text": [
      "/var/folders/y2/htdgfqkx0076k5jq4wv9rdl00000gn/T/ipykernel_36978/1758957761.py:2: DtypeWarning: Columns (40,44,46,50,54,58,94,100,104,110,118,124,126,128,130,132,134,136,140,142,146,148,150,152,154,156,158,178,186,192,198,202,214,218,230,236,238,240,244,246,248,250,252,254,256,258,260,262,264,266,270,272,274,276,286,288,290,292,294,296,298,300,302,304,306,308,310,312,314,316,318,320,324,326,332,334,336,338,340,342,344,346,348,352,366,374,376,380,382,384,390,392,394,396,400,406,408,410,412,414,416,418,428,430,442,446,448,456,460,462,466,468,470,486,504,512,516,518,524,526,528,530,540,542,544,546,554,556,558,560,564,578,594,608,610,612,614,620,624,626,628,630,632,634,642,644,646,648,652,654,656,658,660,662,664,666,676,678,680,686,688,694,696,698,700,702,704) have mixed types. Specify dtype option on import or set low_memory=False.\n",
      "  df = pd.read_csv('data/filtered_results.tsv', sep='\\t')\n"
     ]
    }
   ],
   "source": [
    "# show the peptidoform features\n",
    "df = pd.read_csv('data/filtered_results.tsv', sep='\\t')\n",
    "df.iloc[indices[:20], :].to_csv('data/top_peptidoform_features.tsv', sep='\\t', index=False)"
   ]
  }
 ],
 "metadata": {
  "kernelspec": {
   "display_name": "base",
   "language": "python",
   "name": "python3"
  },
  "language_info": {
   "codemirror_mode": {
    "name": "ipython",
    "version": 3
   },
   "file_extension": ".py",
   "mimetype": "text/x-python",
   "name": "python",
   "nbconvert_exporter": "python",
   "pygments_lexer": "ipython3",
   "version": "3.12.9"
  }
 },
 "nbformat": 4,
 "nbformat_minor": 5
}
