{
 "cells": [
  {
   "cell_type": "code",
   "execution_count": 4,
   "id": "b0c70166",
   "metadata": {},
   "outputs": [],
   "source": [
    "import pandas as pd\n",
    "import numpy as np\n",
    "import re\n",
    "import random\n",
    "\n",
    "trainset = np.load('data/train_data.npz', allow_pickle=True)\n",
    "valset= np.load('data/val_data.npz', allow_pickle=True)\n",
    "testset= np.load('data/test_data.npz', allow_pickle=True)\n",
    "\n",
    "train_data = trainset['data']\n",
    "train_labels = trainset['labels']\n",
    "val_data = valset['data']\n",
    "val_labels = valset['labels']\n",
    "test_data = testset['data']\n",
    "test_labels = testset['labels']"
   ]
  },
  {
   "cell_type": "markdown",
   "id": "e82e7180",
   "metadata": {},
   "source": [
    "# Model"
   ]
  },
  {
   "cell_type": "code",
   "execution_count": null,
   "id": "69ba0021",
   "metadata": {},
   "outputs": [
    {
     "name": "stdout",
     "output_type": "stream",
     "text": [
      "Validation Accuracy: 0.9500\n",
      "Validation F1 Score: 0.9256\n",
      "Test Accuracy: 1.0000\n",
      "Test F1 Score: 1.0000\n"
     ]
    }
   ],
   "source": [
    "# Random Forest Classifier\n",
    "\n",
    "from sklearn.ensemble import RandomForestClassifier\n",
    "from sklearn.metrics import accuracy_score, f1_score\n",
    "\n",
    "\n",
    "# Initialize the Random Forest Classifier\n",
    "rf_classifier = RandomForestClassifier(n_estimators=100, random_state=42)\n",
    "# Fit the model on the training data\n",
    "rf_classifier.fit(train_data, train_labels)\n",
    "# Make predictions on the validation set\n",
    "val_predictions = rf_classifier.predict(val_data)\n",
    "# Calculate accuracy and F1 score\n",
    "val_accuracy = accuracy_score(val_labels, val_predictions)\n",
    "val_f1 = f1_score(val_labels, val_predictions, average='weighted')\n",
    "print(f\"Validation Accuracy: {val_accuracy:.4f}\")\n",
    "print(f\"Validation F1 Score: {val_f1:.4f}\")\n",
    "# Make predictions on the test set\n",
    "test_predictions = rf_classifier.predict(test_data)\n",
    "# Calculate accuracy and F1 score\n",
    "test_accuracy = accuracy_score(test_labels, test_predictions)\n",
    "test_f1 = f1_score(test_labels, test_predictions, average='weighted')\n",
    "print(f\"Test Accuracy: {test_accuracy:.4f}\")\n",
    "print(f\"Test F1 Score: {test_f1:.4f}\")"
   ]
  },
  {
   "cell_type": "markdown",
   "id": "92e8e2ee",
   "metadata": {},
   "source": [
    "# Feature Importance Analysis"
   ]
  },
  {
   "cell_type": "code",
   "execution_count": 6,
   "id": "eada0b4e",
   "metadata": {},
   "outputs": [
    {
     "name": "stdout",
     "output_type": "stream",
     "text": [
      "Top 10 most important features:\n",
      "Feature 1614: 0.0339\n",
      "Feature 2031: 0.0339\n",
      "Feature 34909: 0.0169\n",
      "Feature 3788: 0.0169\n",
      "Feature 11677: 0.0169\n",
      "Feature 16983: 0.0169\n",
      "Feature 15180: 0.0169\n",
      "Feature 37712: 0.0169\n",
      "Feature 6934: 0.0169\n",
      "Feature 1696: 0.0169\n"
     ]
    }
   ],
   "source": [
    "# feature importance analysis\n",
    "rf_importances = rf_classifier.feature_importances_\n",
    "# Sort the feature importances in descending order\n",
    "sorted_indices = np.argsort(rf_importances)[::-1]\n",
    "# Get the top 10 most important features\n",
    "top_n = 10\n",
    "top_features = sorted_indices[:top_n]\n",
    "# Print the top 10 most important features\n",
    "print(\"Top 10 most important features:\")\n",
    "for i in range(top_n):\n",
    "    print(f\"Feature {top_features[i]}: {rf_importances[top_features[i]]:.4f}\")"
   ]
  }
 ],
 "metadata": {
  "kernelspec": {
   "display_name": "base",
   "language": "python",
   "name": "python3"
  },
  "language_info": {
   "codemirror_mode": {
    "name": "ipython",
    "version": 3
   },
   "file_extension": ".py",
   "mimetype": "text/x-python",
   "name": "python",
   "nbconvert_exporter": "python",
   "pygments_lexer": "ipython3",
   "version": "3.12.9"
  }
 },
 "nbformat": 4,
 "nbformat_minor": 5
}
