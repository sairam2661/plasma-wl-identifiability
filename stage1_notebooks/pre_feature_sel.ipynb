{
 "cells": [
  {
   "cell_type": "code",
   "execution_count": 20,
   "id": "a28a6aa1",
   "metadata": {},
   "outputs": [],
   "source": [
    "import pandas as pd\n",
    "import numpy as np\n",
    "import re\n",
    "import matplotlib.pyplot as plt\n",
    "import seaborn as sns\n",
    "from sklearn.feature_selection import VarianceThreshold\n"
   ]
  },
  {
   "cell_type": "markdown",
   "id": "72f8dbbf",
   "metadata": {},
   "source": [
    "Preprocessing"
   ]
  },
  {
   "cell_type": "code",
   "execution_count": 72,
   "id": "ac5cf309",
   "metadata": {},
   "outputs": [],
   "source": [
    "data = pd.read_csv('data/filtered_results.tsv', sep='\\t', low_memory=False)"
   ]
  },
  {
   "cell_type": "code",
   "execution_count": 73,
   "id": "a4a6fbce",
   "metadata": {},
   "outputs": [
    {
     "data": {
      "text/plain": [
       "(40921, 707)"
      ]
     },
     "execution_count": 73,
     "metadata": {},
     "output_type": "execute_result"
    }
   ],
   "source": [
    "data.shape"
   ]
  },
  {
   "cell_type": "code",
   "execution_count": 74,
   "id": "c72fd39c",
   "metadata": {},
   "outputs": [
    {
     "data": {
      "text/plain": [
       "Index(['rowid', 'ccms_row_id', 'Peptidoform', 'Peptidoform ID',\n",
       "       'Unmod peptidoform', 'Total', 'Total- Unmodified sequence',\n",
       "       'Peptidoforms- Unmodified sequence', 'Proteins', 'Mass',\n",
       "       ...\n",
       "       '_dyn_#Patient_M2_healthyMale.Timepoint_2_unmod',\n",
       "       '_dyn_#Patient_M2_healthyMale.Timepoint_3',\n",
       "       '_dyn_#Patient_M2_healthyMale.Timepoint_3_unmod',\n",
       "       '_dyn_#Patient_M3_healthyMale.Timepoint_1',\n",
       "       '_dyn_#Patient_M3_healthyMale.Timepoint_1_unmod',\n",
       "       '_dyn_#Patient_M3_healthyMale.Timepoint_2',\n",
       "       '_dyn_#Patient_M3_healthyMale.Timepoint_2_unmod',\n",
       "       '_dyn_#Patient_M3_healthyMale.Timepoint_3',\n",
       "       '_dyn_#Patient_M3_healthyMale.Timepoint_3_unmod', 'id'],\n",
       "      dtype='object', length=707)"
      ]
     },
     "execution_count": 74,
     "metadata": {},
     "output_type": "execute_result"
    }
   ],
   "source": [
    "data.columns"
   ]
  },
  {
   "cell_type": "markdown",
   "id": "d6ccf72d",
   "metadata": {},
   "source": [
    "Cleaning"
   ]
  },
  {
   "cell_type": "code",
   "execution_count": 75,
   "id": "2aa6f9a7",
   "metadata": {},
   "outputs": [
    {
     "data": {
      "text/plain": [
       "(40921, 371)"
      ]
     },
     "execution_count": 75,
     "metadata": {},
     "output_type": "execute_result"
    }
   ],
   "source": [
    "unmod_columns = [col for col in data.columns if '_unmod' in col]\n",
    "data = data.drop(columns=unmod_columns)\n",
    "data.shape"
   ]
  },
  {
   "cell_type": "code",
   "execution_count": null,
   "id": "3c2f303b",
   "metadata": {},
   "outputs": [
    {
     "name": "stdout",
     "output_type": "stream",
     "text": [
      "Index(['rowid', 'ccms_row_id', 'Peptidoform', 'Peptidoform ID',\n",
      "       'Unmod peptidoform', 'Total', 'Total- Unmodified sequence',\n",
      "       'Peptidoforms- Unmodified sequence', 'Proteins', 'Mass',\n",
      "       ...\n",
      "       'Patient_M1_healthyMale_Timepoint_1',\n",
      "       'Patient_M1_healthyMale_Timepoint_2',\n",
      "       'Patient_M1_healthyMale_Timepoint_3',\n",
      "       'Patient_M2_healthyMale_Timepoint_1',\n",
      "       'Patient_M2_healthyMale_Timepoint_2',\n",
      "       'Patient_M2_healthyMale_Timepoint_3',\n",
      "       'Patient_M3_healthyMale_Timepoint_1',\n",
      "       'Patient_M3_healthyMale_Timepoint_2',\n",
      "       'Patient_M3_healthyMale_Timepoint_3', 'id'],\n",
      "      dtype='object', length=371)\n"
     ]
    }
   ],
   "source": [
    "def rename_column(col_name):\n",
    "    # Match the pattern '_dyn_#Patient_XX.Timepoint_Y'\n",
    "    match = re.match(r'_dyn_#Patient_(\\S+)\\.Timepoint_(\\d+)', col_name)\n",
    "    if match:\n",
    "        patient_id = match.group(1)\n",
    "        timepoint = match.group(2)\n",
    "        return f\"Patient_{patient_id}_Timepoint_{timepoint}\"\n",
    "    return col_name\n",
    "\n",
    "data.columns = [rename_column(col) for col in data.columns]\n",
    "\n",
    "print(data.columns)"
   ]
  },
  {
   "cell_type": "code",
   "execution_count": 77,
   "id": "635affe5",
   "metadata": {},
   "outputs": [],
   "source": [
    "pattern = r'Patient_(\\S+)_Timepoint_(\\d+)'\n",
    "patient_timepoints = []\n",
    "for col in data.columns:\n",
    "\tmatch = re.search(pattern, col)\n",
    "\tif match:\n",
    "\t\tpatient_timepoints.append((match.group(1), match.group(2)))\n",
    "pt_timepoints = pd.DataFrame(patient_timepoints, columns=['patient_id', 'timepoint'])"
   ]
  },
  {
   "cell_type": "code",
   "execution_count": null,
   "id": "1f96f428",
   "metadata": {},
   "outputs": [
    {
     "name": "stdout",
     "output_type": "stream",
     "text": [
      "\n",
      "Missing value percentages in intensity columns:\n",
      "min: 90.85%\n",
      "max: 99.95%\n",
      "mean: 92.25%\n",
      "median: 91.82%\n"
     ]
    }
   ],
   "source": [
    "intensity_cols = [col for col in data.columns if re.search(pattern, col)]\n",
    "\n",
    "missing_percentages = (data[intensity_cols].isna().sum() / len(data)) * 100\n",
    "\n",
    "missing_summary = {\n",
    "    'min': missing_percentages.min(),\n",
    "    'max': missing_percentages.max(),\n",
    "    'mean': missing_percentages.mean(),\n",
    "    'median': missing_percentages.median()\n",
    "}\n",
    "\n",
    "print(\"\\nMissing value percentages in intensity columns:\")\n",
    "for stat, value in missing_summary.items():\n",
    "    print(f\"{stat}: {value:.2f}%\")"
   ]
  },
  {
   "cell_type": "code",
   "execution_count": 86,
   "id": "53ebdf53",
   "metadata": {},
   "outputs": [
    {
     "data": {
      "text/plain": [
       "['rowid', 'ccms_row_id', 'Peptidoform', 'Peptidoform ID']"
      ]
     },
     "execution_count": 86,
     "metadata": {},
     "output_type": "execute_result"
    }
   ],
   "source": [
    "intensity_cols[:4]\n",
    "non_intensity_cols = [col for col in data.columns if col not in intensity_cols]\n",
    "non_intensity_cols[:4]"
   ]
  },
  {
   "cell_type": "markdown",
   "id": "01ea4aac",
   "metadata": {},
   "source": [
    "Fix numerical values"
   ]
  },
  {
   "cell_type": "code",
   "execution_count": 79,
   "id": "8cdb334e",
   "metadata": {},
   "outputs": [],
   "source": [
    "data[intensity_cols] = data[intensity_cols].replace({',': ''}, regex=True).apply(pd.to_numeric)"
   ]
  },
  {
   "cell_type": "markdown",
   "id": "b1f50c23",
   "metadata": {},
   "source": [
    "Which patients contribute to the missing intensity?"
   ]
  },
  {
   "cell_type": "code",
   "execution_count": 80,
   "id": "6bdc0817",
   "metadata": {},
   "outputs": [
    {
     "data": {
      "text/plain": [
       "336    18922\n",
       "335     3151\n",
       "329     2260\n",
       "334     1919\n",
       "333     1164\n",
       "       ...  \n",
       "69         5\n",
       "113        5\n",
       "141        4\n",
       "86         4\n",
       "78         3\n",
       "Name: count, Length: 328, dtype: int64"
      ]
     },
     "execution_count": 80,
     "metadata": {},
     "output_type": "execute_result"
    }
   ],
   "source": [
    "patient_missing_data = data[intensity_cols].isna().sum(axis=1)\n",
    "patients_with_missing_data = patient_missing_data[patient_missing_data > 5]\n",
    "patients_with_missing_data.value_counts()"
   ]
  },
  {
   "cell_type": "markdown",
   "id": "fbb799b6",
   "metadata": {},
   "source": [
    "Imputing missing values with 0 (values below detection limit in mass spectrometry),"
   ]
  },
  {
   "cell_type": "code",
   "execution_count": 82,
   "id": "deb34e43",
   "metadata": {},
   "outputs": [
    {
     "data": {
      "text/plain": [
       "(40921, 371)"
      ]
     },
     "execution_count": 82,
     "metadata": {},
     "output_type": "execute_result"
    }
   ],
   "source": [
    "data[intensity_cols] = data[intensity_cols].fillna(0)\n",
    "data.shape"
   ]
  },
  {
   "cell_type": "markdown",
   "id": "a7bd2bea",
   "metadata": {},
   "source": [
    "What features can we remove?\n",
    "- Low variance? Not really informative. (Nothing is low imo, but relatively we can remove 1e15?) "
   ]
  },
  {
   "cell_type": "code",
   "execution_count": 83,
   "id": "82337c1b",
   "metadata": {},
   "outputs": [
    {
     "data": {
      "text/plain": [
       "{'min': np.float64(281812742380039.2),\n",
       " 'max': np.float64(1.3564992257466317e+17),\n",
       " 'mean': np.float64(4.1469822764016424e+16),\n",
       " 'median': np.float64(3.90418979479439e+16),\n",
       " 'std': np.float64(2.0007461603153216e+16)}"
      ]
     },
     "execution_count": 83,
     "metadata": {},
     "output_type": "execute_result"
    }
   ],
   "source": [
    "feature_variances = data[intensity_cols].var()\n",
    "\n",
    "variance_summary = {\n",
    "    'min': feature_variances.min(),\n",
    "    'max': feature_variances.max(),\n",
    "    'mean': feature_variances.mean(),\n",
    "    'median': feature_variances.median(),\n",
    "    'std': feature_variances.std()\n",
    "}\n",
    "\n",
    "variance_summary"
   ]
  },
  {
   "cell_type": "code",
   "execution_count": 95,
   "id": "88ad791f",
   "metadata": {},
   "outputs": [],
   "source": [
    "var_threshold = VarianceThreshold(threshold=1e15)\n",
    "data_f_intensity = var_threshold.fit_transform(data[intensity_cols])\n",
    "selected_intensity_cols = [col for col, keep in zip(intensity_cols, var_threshold.get_support()) if keep]\n",
    "data_f_intensity = pd.DataFrame(data_f_intensity, columns=selected_intensity_cols)\n",
    "data_f = pd.DataFrame(np.hstack([data_f_intensity, data[non_intensity_cols].values]),\n",
    "                               columns=selected_intensity_cols + non_intensity_cols)"
   ]
  },
  {
   "cell_type": "code",
   "execution_count": 91,
   "id": "a945c461",
   "metadata": {},
   "outputs": [
    {
     "name": "stdout",
     "output_type": "stream",
     "text": [
      "Number of features before: 371\n",
      "Number of features after: 366\n",
      "Number of features dropped: 5\n"
     ]
    }
   ],
   "source": [
    "num_features_before = len(intensity_cols) + len(non_intensity_cols)\n",
    "num_features_after = data_f.shape[1]\n",
    "num_features_dropped = num_features_before - num_features_after\n",
    "\n",
    "print(f\"Number of features before: {num_features_before}\")\n",
    "print(f\"Number of features after: {num_features_after}\")\n",
    "print(f\"Number of features dropped: {num_features_dropped}\")"
   ]
  },
  {
   "cell_type": "code",
   "execution_count": null,
   "id": "2b94a201",
   "metadata": {},
   "outputs": [],
   "source": [
    "# data = data_f # Use data instead of data_f generally, not doing rn for testing"
   ]
  },
  {
   "cell_type": "code",
   "execution_count": 96,
   "id": "971cb325",
   "metadata": {},
   "outputs": [
    {
     "data": {
      "text/plain": [
       "(40921, 331)"
      ]
     },
     "execution_count": 96,
     "metadata": {},
     "output_type": "execute_result"
    }
   ],
   "source": [
    "data_f_intensity.shape"
   ]
  },
  {
   "cell_type": "markdown",
   "id": "5c1c9077",
   "metadata": {},
   "source": [
    "High correlation across the same patient, (for intensities?)"
   ]
  },
  {
   "cell_type": "code",
   "execution_count": null,
   "id": "c62ab207",
   "metadata": {},
   "outputs": [
    {
     "data": {
      "text/plain": [
       "9"
      ]
     },
     "execution_count": 99,
     "metadata": {},
     "output_type": "execute_result"
    }
   ],
   "source": [
    "patient_data_corr = data_f_intensity.corr()\n",
    "\n",
    "# Highly correlated pairs\n",
    "high_corr_pairs = set()\n",
    "for i in range(len(patient_data_corr.columns)):\n",
    "    for j in range(i):\n",
    "        if abs(patient_data_corr.iloc[i, j]) > 0.92:\n",
    "            high_corr_pairs.add((patient_data_corr.columns[i], patient_data_corr.columns[j]))\n",
    "len(high_corr_pairs)"
   ]
  },
  {
   "cell_type": "code",
   "execution_count": 100,
   "id": "c2d1e7c1",
   "metadata": {},
   "outputs": [
    {
     "name": "stdout",
     "output_type": "stream",
     "text": [
      "Number of features dropped: 9\n",
      "Number of features remaining: 322\n"
     ]
    }
   ],
   "source": [
    "features_to_drop = set()\n",
    "for pair in high_corr_pairs:\n",
    "    features_to_drop.add(pair[1])  # Dropping second\n",
    "\n",
    "data_f2_intensity = data_f_intensity.drop(columns=features_to_drop)\n",
    "\n",
    "num_features_before = data_f_intensity.shape[1]\n",
    "num_features_after = data_f2_intensity.shape[1]\n",
    "num_features_dropped = num_features_before - num_features_after\n",
    "\n",
    "print(f\"Number of features dropped: {num_features_dropped}\")\n",
    "print(f\"Number of features remaining: {num_features_after}\")"
   ]
  },
  {
   "cell_type": "code",
   "execution_count": 103,
   "id": "817e899d",
   "metadata": {},
   "outputs": [
    {
     "data": {
      "text/plain": [
       "(40921, 357)"
      ]
     },
     "execution_count": 103,
     "metadata": {},
     "output_type": "execute_result"
    }
   ],
   "source": [
    "data_f = data_f.drop(columns=features_to_drop)\n",
    "data_f.shape"
   ]
  }
 ],
 "metadata": {
  "kernelspec": {
   "display_name": "pytorch_env",
   "language": "python",
   "name": "python3"
  },
  "language_info": {
   "codemirror_mode": {
    "name": "ipython",
    "version": 3
   },
   "file_extension": ".py",
   "mimetype": "text/x-python",
   "name": "python",
   "nbconvert_exporter": "python",
   "pygments_lexer": "ipython3",
   "version": "3.13.3"
  }
 },
 "nbformat": 4,
 "nbformat_minor": 5
}
